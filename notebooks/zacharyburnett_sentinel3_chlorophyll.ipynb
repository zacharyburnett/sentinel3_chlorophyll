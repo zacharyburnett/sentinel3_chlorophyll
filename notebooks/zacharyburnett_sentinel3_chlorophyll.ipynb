{
 "cells": [
  {
   "cell_type": "markdown",
   "source": [
    "The objective of this task is to build a model to predict the chlorophyll index of several sites in `/data/testing.csv`, given 16 reflectances per-site, as well as training data in `/data/training.csv` and validation data in `/data/validation.csv`."
   ],
   "metadata": {
    "collapsed": false
   }
  },
  {
   "cell_type": "markdown",
   "source": [
    "Below is a plot of wavelengths sampled from `training.csv`, sorted by chlorophyll:\n",
    "![wavelengths](../images/training_data.png)\n",
    "This shows the pattern to which the model will fit predicted chlorophyll."
   ],
   "metadata": {
    "collapsed": false,
    "pycharm": {
     "name": "#%% md\n"
    }
   }
  },
  {
   "cell_type": "markdown",
   "source": [
    "First, I ran optimizing weights with a learning rate of `1e-6`, fitting with a hidden layer size determined by 2/3 of the input layer size plus the output layer size.\n",
    "After optimizing weights over 10000 iterations, the RMSE of predicted data () was within 50% of the"
   ],
   "metadata": {
    "collapsed": false,
    "pycharm": {
     "name": "#%% md\n"
    }
   }
  }
 ],
 "metadata": {
  "kernelspec": {
   "display_name": "Python 3",
   "language": "python",
   "name": "python3"
  },
  "language_info": {
   "codemirror_mode": {
    "name": "ipython",
    "version": 2
   },
   "file_extension": ".py",
   "mimetype": "text/x-python",
   "name": "python",
   "nbconvert_exporter": "python",
   "pygments_lexer": "ipython2",
   "version": "2.7.6"
  }
 },
 "nbformat": 4,
 "nbformat_minor": 0
}